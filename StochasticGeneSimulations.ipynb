{
  "nbformat": 4,
  "nbformat_minor": 0,
  "metadata": {
    "colab": {
      "provenance": [],
      "include_colab_link": true
    },
    "kernelspec": {
      "name": "python3",
      "display_name": "Python 3"
    },
    "language_info": {
      "name": "python"
    }
  },
  "cells": [
    {
      "cell_type": "markdown",
      "metadata": {
        "id": "view-in-github",
        "colab_type": "text"
      },
      "source": [
        "<a href=\"https://colab.research.google.com/github/ubadaht/StochasticGeneSimulations/blob/main/StochasticGeneSimulations.ipynb\" target=\"_parent\"><img src=\"https://colab.research.google.com/assets/colab-badge.svg\" alt=\"Open In Colab\"/></a>"
      ]
    },
    {
      "cell_type": "markdown",
      "source": [
        "System we are producning\n",
        "\n",
        "*   Reaction 1: 0 -> X,  K1 = 1 min^-1\n",
        "*   Reaction 2: X -> 0, K2 = 0.1 min^-1\n",
        "\n",
        "\n",
        "\n",
        "\n",
        "\n"
      ],
      "metadata": {
        "id": "MfgA3lVCbTQd"
      }
    },
    {
      "cell_type": "markdown",
      "source": [
        "\n",
        "<a name='1.1'></a>\n"
      ],
      "metadata": {
        "id": "aYX3mF13PK-b"
      }
    },
    {
      "cell_type": "code",
      "source": [
        "def run(k1,k2, x0, t_sim, t_sampling):\n",
        "\"\"\"\n",
        "calculate activation func\n",
        "a0 = sum(ai) sum of activation\n",
        "r1, r2 U(0,1)\n",
        "dt\n",
        "sum(ai) > r2*a0\n",
        "----> go back to 1\n",
        "\"\"\"\n",
        "  T = [0,]\n",
        "  X = [X0,]\n",
        "\n",
        "  while T[-1] < t_sim:\n",
        "    a1 = k1 #prob 0\n",
        "    a2 = k2+X[-1] #prob 1\n",
        "    a0 = a1+ a2 #prob any\n",
        "    r1, r2 = np.random.random_sample(2)\n",
        "    dt = -np.log(r1)/a0\n",
        "    if a1 > r2*a0:\n",
        "      x_new = X[-1]+1\n",
        "    else:\n",
        "      x_new = X[-1]-1\n",
        "    t+= dt\n",
        "    if t> t_sampling\n"
      ],
      "metadata": {
        "id": "9xqfny6Vayfd"
      },
      "execution_count": null,
      "outputs": []
    },
    {
      "cell_type": "code",
      "source": [
        "import matplotlib.pyplot as plt\n",
        "import numpy as np"
      ],
      "metadata": {
        "id": "KV6UcfWId1eS"
      },
      "execution_count": null,
      "outputs": []
    },
    {
      "cell_type": "code",
      "source": [
        "def simulate_gene_expression(kr, gr, kp, gp, t_sim, r0, p0, t_sampling=10):\n",
        "    T, R, P = [0], [r0], [p0]\n",
        "    r, p, t = r0, p0, 0\n",
        "\n",
        "    while T[-1] < t_sim:\n",
        "        a1, a2, a3, a4 = kr, gr * r, kp * r, gp * p\n",
        "        ## 0 -> R\n",
        "\n",
        "        a0 = a1 + a2 + a3 + a4\n",
        "        r1, r2 = np.random.random_sample(2)\n",
        "        dt = -np.log(r1) / a0\n",
        "        t += dt\n",
        "\n",
        "        if t > t_sampling:\n",
        "            if t > 2 * t_sampling:\n",
        "                raise ValueError('ERROR')\n",
        "            T.append(T[-1] + t_sampling)\n",
        "            R.append(r)\n",
        "            P.append(p)\n",
        "            t = 0\n",
        "\n",
        "        if r2 * a0 < a1:\n",
        "            r += 1\n",
        "        elif r2 * a0 < a1 + a2:\n",
        "            r -= 1\n",
        "        elif r2 * a0 < a1 + a2 + a3:\n",
        "            r += 1\n",
        "            p += 1\n",
        "        else:\n",
        "            p -= 1\n",
        "\n",
        "    return T, R, P\n"
      ],
      "metadata": {
        "id": "SsthH6nMrXEk"
      },
      "execution_count": null,
      "outputs": []
    },
    {
      "cell_type": "code",
      "source": [
        "kr = 10.0\n",
        "gr = 1.0\n",
        "kp = 1.0\n",
        "gp = 0.1\n",
        "t_sim = 600  # Total simulation time (10 hours)\n",
        "r0 = 0      # Initial mRNA concentration\n",
        "p0 = 0      # Initial protein concentration\n",
        "\n",
        "T, R, P = simulate_gene_expression(kr, gr, kp, gp, t_sim, r0, p0)\n",
        "\n",
        "# Compute the equilibrium values (values at the end of the simulation)\n",
        "Req = R[-1]\n",
        "Peq = P[-1]\n",
        "\n",
        "print(f\"Equilibrium R value (Req): {Req}\")\n",
        "print(f\"Equilibrium P value (Peq): {Peq}\")"
      ],
      "metadata": {
        "colab": {
          "base_uri": "https://localhost:8080/"
        },
        "id": "sy43ytUSsUOZ",
        "outputId": "9db5e3b7-ff0e-4b3e-ecfd-c61f0a24080f"
      },
      "execution_count": null,
      "outputs": [
        {
          "output_type": "stream",
          "name": "stdout",
          "text": [
            "Equilibrium R value (Req): 11538\n",
            "Equilibrium P value (Peq): 113080\n"
          ]
        }
      ]
    },
    {
      "cell_type": "code",
      "source": [
        "def run(kr, gr, kp, gp, t_sim, r0, p0, t_sampling=10):\n",
        "    T, R, P = [0], [r0], [p0]\n",
        "    r = r0\n",
        "    p = p0\n",
        "    t = 0\n",
        "\n",
        "    while T[-1] < t_sim:\n",
        "        a1 = kr  # 0 -> R\n",
        "        a2 = gr * r  # R -> 0\n",
        "        a3 = kp * r  # R -> R + P\n",
        "        a4 = gp * p  # P -> 0\n",
        "        a0 = a1 + a2 + a3 + a4\n",
        "\n",
        "        r1, r2 = np.random.random_sample(2)\n",
        "        dt = -np.log(r1) / a0\n",
        "        t += dt\n",
        "\n",
        "        if t > t_sampling:\n",
        "            if t > 2 * t_sampling:\n",
        "                raise ValueError('ERROR')\n",
        "            T.append(T[-1] + t_sampling)\n",
        "            R.append(r)\n",
        "            P.append(p)\n",
        "            t = 0\n",
        "\n",
        "        if a1 > r2 * a0:\n",
        "            r += 1  # 0 -> R\n",
        "        elif (a1 + a2) > r2 * a0:\n",
        "            r -= 1  # R -> 0\n",
        "        elif (a1 + a2 + a3) > r2 * a0:\n",
        "            p += 1  # R -> R + P\n",
        "        else:\n",
        "            p -= 1  # P -> 0\n",
        "\n",
        "    return T, R, P"
      ],
      "metadata": {
        "id": "p2CQx7363GhU"
      },
      "execution_count": null,
      "outputs": []
    },
    {
      "cell_type": "code",
      "source": [
        "kr = 10.0\n",
        "gr = 1.0\n",
        "kp = 1.0\n",
        "gp = 0.1\n",
        "t_sim = 600"
      ],
      "metadata": {
        "id": "JjWGrtTN3dUz"
      },
      "execution_count": null,
      "outputs": []
    },
    {
      "cell_type": "code",
      "source": [
        "T, R, P = run(kr, gr, kp, gp, t_sim, 0, 0)\n",
        "Req = R[-1]\n",
        "Peq = P[-1]\n",
        "\n",
        "print(f\"Equilibrium R value (Req): {Req}\")\n",
        "print(f\"Equilibrium P value (Peq): {Peq}\")\n",
        "#f = plt.figure()\n",
        "#ax = f.add_subplot(2,1,1)\n",
        "#ax.plot(T, R, 'o-')\n",
        "#ax = f.add_subplot(2,1,2)\n",
        "#ax.plot(T, P, 'o-')"
      ],
      "metadata": {
        "colab": {
          "base_uri": "https://localhost:8080/"
        },
        "id": "4CyhdsFZ3m0_",
        "outputId": "19d19d54-045a-4673-c9c8-9d11d8b70def"
      },
      "execution_count": null,
      "outputs": [
        {
          "output_type": "stream",
          "name": "stdout",
          "text": [
            "Equilibrium R value (Req): 11\n",
            "Equilibrium P value (Peq): 116\n"
          ]
        }
      ]
    },
    {
      "cell_type": "code",
      "source": [
        "# Plot the trajectories of mRNA and protein concentrations\n",
        "plt.figure(figsize=(10, 6))\n",
        "plt.plot(T, R, 'o-',label='mRNA (R)')\n",
        "plt.plot(T, P, 'o-',label='Protein (P)')\n",
        "plt.xlabel('Time (minutes)')\n",
        "plt.ylabel('Concentration')\n",
        "plt.legend()\n",
        "plt.title('Gene Expression Simulation')\n",
        "plt.grid(True)\n",
        "plt.show()"
      ],
      "metadata": {
        "colab": {
          "base_uri": "https://localhost:8080/",
          "height": 564
        },
        "id": "VIy1WBI64JvK",
        "outputId": "f7603ff7-f3a3-453c-ccdc-fa36e7820c89"
      },
      "execution_count": null,
      "outputs": [
        {
          "output_type": "display_data",
          "data": {
            "text/plain": [
              "<Figure size 1000x600 with 1 Axes>"
            ],
            "image/png": "[encoded data removed]"
          },
          "metadata": {}
        }
      ]
    },
    {
      "cell_type": "code",
      "source": [
        "# index where the second half starts\n",
        "midpoint = len(T) // 2\n",
        "\n",
        "# Slicing arrays to get the second half\n",
        "R_second_half = R[midpoint:]\n",
        "P_second_half = P[midpoint:]\n",
        "\n",
        "# Calculating average of the second half\n",
        "avg_R_second_half = np.mean(R_second_half)\n",
        "avg_P_second_half = np.mean(P_second_half)\n",
        "\n",
        "# Calculating the variance of the second half of R and P\n",
        "variance_R_second_half = np.var(R_second_half)\n",
        "variance_P_second_half = np.var(P_second_half)\n",
        "\n",
        "# Calculating the Fano's Factor of the second half of R and P\n",
        "fanoFactor_R_second_half = variance_R_second_half/ avg_R_second_half\n",
        "fanoFactor_P_second_half = variance_P_second_half/ avg_P_second_half\n",
        "\n",
        "print(f\"starting T for second half: {midpoint}\")\n",
        "print(f\"Average of R in the second half: {avg_R_second_half}\")\n",
        "print(f\"Average of P in the second half: {avg_P_second_half}\")\n",
        "\n",
        "# Print the variances\n",
        "print(f\"Variance of R in the second half: {variance_R_second_half}\")\n",
        "print(f\"Variance of P in the second half: {variance_P_second_half}\")\n",
        "\n",
        "# Print the Fano's Factors\n",
        "print(f\"Fano's Factor of R in the second half: {fanoFactor_R_second_half}\")\n",
        "print(f\"Fano's Factor of P in the second half: {fanoFactor_P_second_half}\")"
      ],
      "metadata": {
        "colab": {
          "base_uri": "https://localhost:8080/"
        },
        "id": "mSUVBjCC50fO",
        "outputId": "10c52301-6761-48b9-f408-83835d779845"
      },
      "execution_count": null,
      "outputs": [
        {
          "output_type": "stream",
          "name": "stdout",
          "text": [
            "starting T for second half: 30\n",
            "Average of R in the second half: 11.03225806451613\n",
            "Average of P in the second half: 100.74193548387096\n",
            "Variance of R in the second half: 9.38605619146722\n",
            "Variance of P in the second half: 101.22372528616025\n",
            "Fano's Factor of R in the second half: 0.8507828711563854\n",
            "Fano's Factor of P in the second half: 1.0047824155846838\n"
          ]
        }
      ]
    },
    {
      "cell_type": "code",
      "source": [
        "\n",
        "\n"
      ],
      "metadata": {
        "colab": {
          "base_uri": "https://localhost:8080/"
        },
        "id": "3xjM5g-R7a0X",
        "outputId": "48382924-d32e-43c9-e5b6-0da4ac8fbc5d"
      },
      "execution_count": null,
      "outputs": [
        {
          "output_type": "stream",
          "name": "stdout",
          "text": [
            "Variance of R in the second half: 9.38605619146722\n",
            "Variance of P in the second half: 101.22372528616025\n"
          ]
        }
      ]
    },
    {
      "cell_type": "code",
      "source": [
        "\n",
        "\n"
      ],
      "metadata": {
        "colab": {
          "base_uri": "https://localhost:8080/"
        },
        "id": "5yipMa6j8AY5",
        "outputId": "135ce441-f18a-4d45-95b3-f18646bc561c"
      },
      "execution_count": null,
      "outputs": [
        {
          "output_type": "stream",
          "name": "stdout",
          "text": [
            "Fano's Factor of R in the second half: 0.8507828711563854\n",
            "Fano's Factor of P in the second half: 1.0047824155846838\n"
          ]
        }
      ]
    },
    {
      "cell_type": "code",
      "source": [
        "print(T)"
      ],
      "metadata": {
        "colab": {
          "base_uri": "https://localhost:8080/"
        },
        "id": "hlRgRb6R6rug",
        "outputId": "99c90c57-9b87-42f6-a959-2188b5aacd81"
      },
      "execution_count": null,
      "outputs": [
        {
          "output_type": "stream",
          "name": "stdout",
          "text": [
            "[0, 10, 20, 30, 40, 50, 60, 70, 80, 90, 100, 110, 120, 130, 140, 150, 160, 170, 180, 190, 200, 210, 220, 230, 240, 250, 260, 270, 280, 290, 300, 310, 320, 330, 340, 350, 360, 370, 380, 390, 400, 410, 420, 430, 440, 450, 460, 470, 480, 490, 500, 510, 520, 530, 540, 550, 560, 570, 580, 590, 600]\n"
          ]
        }
      ]
    },
    {
      "cell_type": "code",
      "source": [
        "def stats(kr, gr, kp, gp, t_sim, r0, p0, n_sims, t_sampling=10):\n",
        "    n_samples = int(t_sim / t_sampling) + 1\n",
        "    RR = np.zeros((n_sims, n_samples))\n",
        "    PP = np.zeros((n_sims, n_samples))\n",
        "    for i_sim in range(n_sims):\n",
        "        T, R, P = simulate_gene_expression(kr, gr, kp, gp, t_sim, r0, p0, t_sampling)\n",
        "        RR[i_sim, :] = R\n",
        "        PP[i_sim, :] = P\n",
        "    return T, np.mean(RR, axis=0), np.mean(PP, axis=0), np.var(RR, axis=0), np.var(PP, axis=0)"
      ],
      "metadata": {
        "id": "bmVmV6E91KGW"
      },
      "execution_count": null,
      "outputs": []
    },
    {
      "cell_type": "code",
      "source": [
        "kr = 10.0\n",
        "gr = 1.0\n",
        "kp = 1.0\n",
        "gp = 0.1\n",
        "t_sim = 600  # Total simulation time (10 hours)\n",
        "r0 = 0      # Initial mRNA concentration\n",
        "p0 = 0      # Initial protein concentration\n",
        "n_sims = 100  # Number of simulations\n",
        "\n",
        "# Call the stats function to run multiple simulations and collect statistics\n",
        "T, avg_R, avg_P, var_R, var_P = stats(kr, gr, kp, gp, t_sim, r0, p0, n_sims)"
      ],
      "metadata": {
        "colab": {
          "base_uri": "https://localhost:8080/",
          "height": 355
        },
        "id": "KAVPcrHy1Tyv",
        "outputId": "d8e9ba1a-d1e9-47c7-a813-232e3184aa2e"
      },
      "execution_count": null,
      "outputs": [
        {
          "output_type": "error",
          "ename": "KeyboardInterrupt",
          "evalue": "ignored",
          "traceback": [
            "\u001b[0;31m---------------------------------------------------------------------------\u001b[0m",
            "\u001b[0;31mKeyboardInterrupt\u001b[0m                         Traceback (most recent call last)",
            "\u001b[0;32m<ipython-input-11-c4fb4769f2a2>\u001b[0m in \u001b[0;36m<cell line: 11>\u001b[0;34m()\u001b[0m\n\u001b[1;32m      9\u001b[0m \u001b[0;34m\u001b[0m\u001b[0m\n\u001b[1;32m     10\u001b[0m \u001b[0;31m# Call the stats function to run multiple simulations and collect statistics\u001b[0m\u001b[0;34m\u001b[0m\u001b[0;34m\u001b[0m\u001b[0m\n\u001b[0;32m---> 11\u001b[0;31m \u001b[0mT\u001b[0m\u001b[0;34m,\u001b[0m \u001b[0mavg_R\u001b[0m\u001b[0;34m,\u001b[0m \u001b[0mavg_P\u001b[0m\u001b[0;34m,\u001b[0m \u001b[0mvar_R\u001b[0m\u001b[0;34m,\u001b[0m \u001b[0mvar_P\u001b[0m \u001b[0;34m=\u001b[0m \u001b[0mstats\u001b[0m\u001b[0;34m(\u001b[0m\u001b[0mkr\u001b[0m\u001b[0;34m,\u001b[0m \u001b[0mgr\u001b[0m\u001b[0;34m,\u001b[0m \u001b[0mkp\u001b[0m\u001b[0;34m,\u001b[0m \u001b[0mgp\u001b[0m\u001b[0;34m,\u001b[0m \u001b[0mt_sim\u001b[0m\u001b[0;34m,\u001b[0m \u001b[0mr0\u001b[0m\u001b[0;34m,\u001b[0m \u001b[0mp0\u001b[0m\u001b[0;34m,\u001b[0m \u001b[0mn_sims\u001b[0m\u001b[0;34m)\u001b[0m\u001b[0;34m\u001b[0m\u001b[0;34m\u001b[0m\u001b[0m\n\u001b[0m",
            "\u001b[0;32m<ipython-input-10-6630c64d88fd>\u001b[0m in \u001b[0;36mstats\u001b[0;34m(kr, gr, kp, gp, t_sim, r0, p0, n_sims, t_sampling)\u001b[0m\n\u001b[1;32m      4\u001b[0m     \u001b[0mPP\u001b[0m \u001b[0;34m=\u001b[0m \u001b[0mnp\u001b[0m\u001b[0;34m.\u001b[0m\u001b[0mzeros\u001b[0m\u001b[0;34m(\u001b[0m\u001b[0;34m(\u001b[0m\u001b[0mn_sims\u001b[0m\u001b[0;34m,\u001b[0m \u001b[0mn_samples\u001b[0m\u001b[0;34m)\u001b[0m\u001b[0;34m)\u001b[0m\u001b[0;34m\u001b[0m\u001b[0;34m\u001b[0m\u001b[0m\n\u001b[1;32m      5\u001b[0m     \u001b[0;32mfor\u001b[0m \u001b[0mi_sim\u001b[0m \u001b[0;32min\u001b[0m \u001b[0mrange\u001b[0m\u001b[0;34m(\u001b[0m\u001b[0mn_sims\u001b[0m\u001b[0;34m)\u001b[0m\u001b[0;34m:\u001b[0m\u001b[0;34m\u001b[0m\u001b[0;34m\u001b[0m\u001b[0m\n\u001b[0;32m----> 6\u001b[0;31m         \u001b[0mT\u001b[0m\u001b[0;34m,\u001b[0m \u001b[0mR\u001b[0m\u001b[0;34m,\u001b[0m \u001b[0mP\u001b[0m \u001b[0;34m=\u001b[0m \u001b[0msimulate_gene_expression\u001b[0m\u001b[0;34m(\u001b[0m\u001b[0mkr\u001b[0m\u001b[0;34m,\u001b[0m \u001b[0mgr\u001b[0m\u001b[0;34m,\u001b[0m \u001b[0mkp\u001b[0m\u001b[0;34m,\u001b[0m \u001b[0mgp\u001b[0m\u001b[0;34m,\u001b[0m \u001b[0mt_sim\u001b[0m\u001b[0;34m,\u001b[0m \u001b[0mr0\u001b[0m\u001b[0;34m,\u001b[0m \u001b[0mp0\u001b[0m\u001b[0;34m,\u001b[0m \u001b[0mt_sampling\u001b[0m\u001b[0;34m)\u001b[0m\u001b[0;34m\u001b[0m\u001b[0;34m\u001b[0m\u001b[0m\n\u001b[0m\u001b[1;32m      7\u001b[0m         \u001b[0mRR\u001b[0m\u001b[0;34m[\u001b[0m\u001b[0mi_sim\u001b[0m\u001b[0;34m,\u001b[0m \u001b[0;34m:\u001b[0m\u001b[0;34m]\u001b[0m \u001b[0;34m=\u001b[0m \u001b[0mR\u001b[0m\u001b[0;34m\u001b[0m\u001b[0;34m\u001b[0m\u001b[0m\n\u001b[1;32m      8\u001b[0m         \u001b[0mPP\u001b[0m\u001b[0;34m[\u001b[0m\u001b[0mi_sim\u001b[0m\u001b[0;34m,\u001b[0m \u001b[0;34m:\u001b[0m\u001b[0;34m]\u001b[0m \u001b[0;34m=\u001b[0m \u001b[0mP\u001b[0m\u001b[0;34m\u001b[0m\u001b[0;34m\u001b[0m\u001b[0m\n",
            "\u001b[0;32m<ipython-input-3-08b5fc01b6b9>\u001b[0m in \u001b[0;36msimulate_gene_expression\u001b[0;34m(kr, gr, kp, gp, t_sim, r0, p0, t_sampling)\u001b[0m\n\u001b[1;32m      7\u001b[0m         \u001b[0ma0\u001b[0m \u001b[0;34m=\u001b[0m \u001b[0ma1\u001b[0m \u001b[0;34m+\u001b[0m \u001b[0ma2\u001b[0m \u001b[0;34m+\u001b[0m \u001b[0ma3\u001b[0m \u001b[0;34m+\u001b[0m \u001b[0ma4\u001b[0m\u001b[0;34m\u001b[0m\u001b[0;34m\u001b[0m\u001b[0m\n\u001b[1;32m      8\u001b[0m \u001b[0;34m\u001b[0m\u001b[0m\n\u001b[0;32m----> 9\u001b[0;31m         \u001b[0mdt\u001b[0m \u001b[0;34m=\u001b[0m \u001b[0;34m-\u001b[0m\u001b[0mnp\u001b[0m\u001b[0;34m.\u001b[0m\u001b[0mlog\u001b[0m\u001b[0;34m(\u001b[0m\u001b[0mnp\u001b[0m\u001b[0;34m.\u001b[0m\u001b[0mrandom\u001b[0m\u001b[0;34m.\u001b[0m\u001b[0mrandom\u001b[0m\u001b[0;34m(\u001b[0m\u001b[0;34m)\u001b[0m\u001b[0;34m)\u001b[0m \u001b[0;34m/\u001b[0m \u001b[0ma0\u001b[0m\u001b[0;34m\u001b[0m\u001b[0;34m\u001b[0m\u001b[0m\n\u001b[0m\u001b[1;32m     10\u001b[0m         \u001b[0mt\u001b[0m \u001b[0;34m+=\u001b[0m \u001b[0mdt\u001b[0m\u001b[0;34m\u001b[0m\u001b[0;34m\u001b[0m\u001b[0m\n\u001b[1;32m     11\u001b[0m \u001b[0;34m\u001b[0m\u001b[0m\n",
            "\u001b[0;31mKeyboardInterrupt\u001b[0m: "
          ]
        }
      ]
    },
    {
      "cell_type": "code",
      "source": [
        "print(f\"Average R in the second half: {avg_R}\")\n",
        "print(f\"Average P in the second half: {avg_P}\")\n",
        "print(f\"Variance of R in the second half: {var_R}\")\n",
        "print(f\"Variance of P in the second half: {var_P}\")\n",
        "print(f\"Fano's factor of R in the second half: {fano_R}\")\n",
        "print(f\"Fano's factor of P in the second half: {fano_P}\")"
      ],
      "metadata": {
        "id": "DV6BrRuV1kF8"
      },
      "execution_count": null,
      "outputs": []
    },
    {
      "cell_type": "code",
      "source": [
        "import numpy as np\n",
        "\n",
        "# Function to calculate average, variance, and Fano's factor\n",
        "def calculate_stats(data):\n",
        "    avg = np.mean(data)\n",
        "    var = np.var(data)\n",
        "    fano = var / avg if avg > 0 else 0  # Handle potential division by zero\n",
        "    return avg, var, fano\n",
        "\n",
        "# Calculate the midpoint of the trajectory\n",
        "midpoint = len(T) // 2\n",
        "\n",
        "# Extract data from the second half of the trajectory\n",
        "R_second_half = R[midpoint:]\n",
        "P_second_half = P[midpoint:]\n",
        "\n",
        "# Calculate statistics for R and P in the second half\n",
        "avg_R, var_R, fano_R = calculate_stats(R_second_half)\n",
        "avg_P, var_P, fano_P = calculate_stats(P_second_half)\n",
        "\n",
        "# Print the results\n",
        "print(f\"Average R in the second half: {avg_R}\")\n",
        "print(f\"Average P in the second half: {avg_P}\")\n",
        "print(f\"Variance of R in the second half: {var_R}\")\n",
        "print(f\"Variance of P in the second half: {var_P}\")\n",
        "print(f\"Fano's factor of R in the second half: {fano_R}\")\n",
        "print(f\"Fano's factor of P in the second half: {fano_P}\")\n"
      ],
      "metadata": {
        "colab": {
          "base_uri": "https://localhost:8080/"
        },
        "id": "yzEKyONIs5DW",
        "outputId": "1b2753af-7cec-4c25-a83a-11885211f7f4"
      },
      "execution_count": null,
      "outputs": [
        {
          "output_type": "stream",
          "name": "stdout",
          "text": [
            "Average R in the second half: 8338.322580645161\n",
            "Average P in the second half: 81427.87096774194\n",
            "Variance of R in the second half: 2525209.7669094694\n",
            "Variance of P in the second half: 239736424.1123829\n",
            "Fano's factor of R in the second half: 302.84385648151385\n",
            "Fano's factor of P in the second half: 2944.1568502675905\n"
          ]
        }
      ]
    },
    {
      "cell_type": "code",
      "source": [
        "protein_target = 100\n",
        "desired_fano_factor = 5\n",
        "num_transcription_rates = 50\n",
        "min_transcription_rate = 1.0\n",
        "max_transcription_rate = 10.0\n",
        "\n",
        "# array of possible transcription rates\n",
        "transcription_rates = np.linspace(min_transcription_rate, max_transcription_rate, num_transcription_rates)\n",
        "\n",
        "# Lists to store transcription rates, translation rates, and corresponding Fano factors\n",
        "trans_rates = []\n",
        "translation_rates = []\n",
        "fano_factors = []\n",
        "\n",
        "# Simulate for different transcription rates and find corresponding translation rates\n",
        "for kr in transcription_rates:\n",
        "    # Compute the corresponding translation rate to achieve the target protein level\n",
        "    kp = protein_target / kr\n",
        "\n",
        "    # Simulate gene expression with the calculated transcription and translation rates\n",
        "    T, R, P = simulate_gene_expression(kr, 1.0, kp, 0.1, t_sim, 0, 0)\n",
        "\n",
        "    # Calculate Fano factor for protein in the second half of the trajectory\n",
        "    midpoint = len(T) // 2\n",
        "    P_second_half = P[midpoint:]\n",
        "    fano_factor = calculate_stats(P_second_half)\n",
        "\n",
        "    # Store the results\n",
        "    trans_rates.append(kr)\n",
        "    translation_rates.append(kp)\n",
        "    fano_factors.append(fano_factor)\n",
        "\n",
        "# Plot Fano factor of P as a function of transcription rate\n",
        "plt.figure(figsize=(10, 6))\n",
        "plt.plot(trans_rates, fano_factors, marker='o', linestyle='-', color='b')\n",
        "plt.xlabel('Transcription Rate')\n",
        "plt.ylabel('Fano Factor of P')\n",
        "plt.title('Fano Factor of Protein vs. Transcription Rate')\n",
        "plt.grid(True)\n",
        "plt.show()\n",
        "\n",
        "# Find the transcription rate and translation rate that gives Fano's factor ≈ 5\n",
        "target_fano_factor = 5\n",
        "index = np.argmin(np.abs(np.array(fano_factors) - target_fano_factor))\n",
        "optimal_kr = transcription_rates[index]\n",
        "optimal_kp = translation_rates[index]\n",
        "\n",
        "print(f\"Transcription rate that gives Fano's factor ≈ 5: {optimal_kr}\")\n",
        "print(f\"Corresponding Translation rate: {optimal_kp}\")"
      ],
      "metadata": {
        "id": "_gLJPFUHwuUQ"
      },
      "execution_count": null,
      "outputs": []
    }
  ]
}